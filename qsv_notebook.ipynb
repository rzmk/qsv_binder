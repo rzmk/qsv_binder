{
 "cells": [
  {
   "cell_type": "markdown",
   "id": "c05323a0-4330-412a-a6b4-67d33ec1090f",
   "metadata": {},
   "source": [
    "# qsv\n",
    "\n",
    "Now you can use qsv online through binder as a Jupyter Notebook, Terminal, and more! You can even export for offline use.\n",
    "\n",
    "[Here's the GitHub repo](https://github.com/rzmk/qsv_binder). You can start a new binder with [this link](https://mybinder.org/v2/gh/rzmk/qsv_binder/HEAD?labpath=qsv_notebook.ipynb).\n",
    "\n",
    "## Credits\n",
    "\n",
    "- [jqnatividad/qsv](https://github.com/jqnatividad/qsv)\n",
    "- [takluyver/bash_kernel](https://github.com/takluyver/bash_kernel)\n",
    "\n",
    "## Notebook Contributors\n",
    "\n",
    "- [Mueez Khan](https://github.com/rzmk)"
   ]
  },
  {
   "cell_type": "markdown",
   "id": "d3bee380-9610-4a77-be52-48a7a138b617",
   "metadata": {},
   "source": [
    "## Installation"
   ]
  },
  {
   "cell_type": "markdown",
   "id": "cd9df007-5591-4ff7-94af-3e2cca747876",
   "metadata": {},
   "source": [
    "First we need to install Rust."
   ]
  },
  {
   "cell_type": "code",
   "execution_count": null,
   "id": "374b1df7-88e3-47d5-8268-5768e1642946",
   "metadata": {},
   "outputs": [],
   "source": [
    "curl --proto '=https' --tlsv1.2 -sSf https://sh.rustup.rs | sh -s -- -y"
   ]
  },
  {
   "cell_type": "code",
   "execution_count": null,
   "id": "f8d2273c-3c12-43a7-97e3-c8f00a299d77",
   "metadata": {
    "tags": []
   },
   "outputs": [],
   "source": [
    "source \"$HOME/.cargo/env\""
   ]
  },
  {
   "cell_type": "code",
   "execution_count": null,
   "id": "b515ee7d-f524-4c43-a955-326b056fc78a",
   "metadata": {},
   "outputs": [],
   "source": [
    "rustup update"
   ]
  },
  {
   "cell_type": "markdown",
   "id": "5bddcb0c-a2c7-4537-8923-692fe8258677",
   "metadata": {},
   "source": [
    "Now we need to install qsv (this might take a while). You can also use other [variants](https://github.com/jqnatividad/qsv#variants) and [features](https://github.com/jqnatividad/qsv#feature-flags). We'll be using qsvlite."
   ]
  },
  {
   "cell_type": "code",
   "execution_count": null,
   "id": "9b14c329-73bb-4d92-a882-7ecf1d3c3cc7",
   "metadata": {
    "tags": []
   },
   "outputs": [],
   "source": [
    "cargo install qsv --locked --bin qsvlite -F lite"
   ]
  },
  {
   "cell_type": "markdown",
   "id": "713a0265-fd8d-4a61-b27c-00ef313dafb1",
   "metadata": {},
   "source": [
    "## qsv"
   ]
  },
  {
   "cell_type": "markdown",
   "id": "3efef228-c052-41cd-a2ee-d409cccf9714",
   "metadata": {},
   "source": [
    "Now you can use `qsv`! Try it out below."
   ]
  },
  {
   "cell_type": "code",
   "execution_count": null,
   "id": "51c6347d-dc1f-4184-accd-eba5174c3eb9",
   "metadata": {},
   "outputs": [],
   "source": [
    "qsv"
   ]
  }
 ],
 "metadata": {
  "kernelspec": {
   "display_name": "Bash",
   "language": "bash",
   "name": "bash"
  },
  "language_info": {
   "codemirror_mode": "shell",
   "file_extension": ".sh",
   "mimetype": "text/x-sh",
   "name": "bash"
  }
 },
 "nbformat": 4,
 "nbformat_minor": 5
}
